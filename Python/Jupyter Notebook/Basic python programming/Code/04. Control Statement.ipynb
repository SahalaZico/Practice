{
 "cells": [
  {
   "cell_type": "code",
   "execution_count": 1,
   "metadata": {},
   "outputs": [],
   "source": [
    "telur_ayam = 5\n",
    "telur_buwung_puyuh = 12"
   ]
  },
  {
   "cell_type": "code",
   "execution_count": 2,
   "metadata": {},
   "outputs": [
    {
     "name": "stdout",
     "output_type": "stream",
     "text": [
      "Banyak telur gue guys\n"
     ]
    }
   ],
   "source": [
    "if telur_ayam > 2:\n",
    "    print('Banyak telur gue guys')"
   ]
  },
  {
   "cell_type": "code",
   "execution_count": 3,
   "metadata": {},
   "outputs": [],
   "source": [
    "if telur_ayam > 12:\n",
    "    print('Banyak telur gue guys')"
   ]
  },
  {
   "cell_type": "code",
   "execution_count": 4,
   "metadata": {},
   "outputs": [
    {
     "name": "stdout",
     "output_type": "stream",
     "text": [
      "Telur buwung puyuh lebih banyak man\n"
     ]
    }
   ],
   "source": [
    "if telur_ayam > telur_buwung_puyuh:\n",
    "    print('Telur ayam lebih banyak man')\n",
    "else:\n",
    "    print('Telur buwung puyuh lebih banyak man')    "
   ]
  },
  {
   "cell_type": "code",
   "execution_count": 5,
   "metadata": {},
   "outputs": [
    {
     "name": "stdout",
     "output_type": "stream",
     "text": [
      "Enter a number 12\n",
      "12 is Even number\n"
     ]
    }
   ],
   "source": [
    "number = int(input(\"Enter a number \"))\n",
    "if number % 2 == 0:\n",
    "    print(number,\"is Even number\")\n",
    "else:\n",
    "    print(number,\"is Odd number\")"
   ]
  },
  {
   "cell_type": "code",
   "execution_count": 6,
   "metadata": {},
   "outputs": [
    {
     "name": "stdout",
     "output_type": "stream",
     "text": [
      "Cukup telurmu cuy\n"
     ]
    }
   ],
   "source": [
    "if telur_ayam > 10:\n",
    "    print('Kebanyakan telurmu ces')\n",
    "elif telur_ayam > 3:\n",
    "    print('Cukup telurmu cuy')\n",
    "else:\n",
    "    print('Telurmu dikit kali bosque')    "
   ]
  },
  {
   "cell_type": "code",
   "execution_count": 7,
   "metadata": {},
   "outputs": [
    {
     "name": "stdout",
     "output_type": "stream",
     "text": [
      "telur buwung puyuh hanya kelipatan 3 doang\n"
     ]
    }
   ],
   "source": [
    "if telur_buwung_puyuh  % 3 == 0:\n",
    "    if telur_buwung_puyuh  % 5 == 0:\n",
    "        print('telur buwung puyuh kelipan 15')\n",
    "    else:\n",
    "        print('telur buwung puyuh hanya kelipatan 3 doang')\n",
    "else:\n",
    "    print('telur buwung puyuh bukan kelipatan 3 ataupun 15')"
   ]
  },
  {
   "cell_type": "code",
   "execution_count": 8,
   "metadata": {},
   "outputs": [
    {
     "name": "stdout",
     "output_type": "stream",
     "text": [
      "0\n",
      "1\n",
      "2\n"
     ]
    }
   ],
   "source": [
    "for angka in range(3):\n",
    "    print(angka)"
   ]
  },
  {
   "cell_type": "code",
   "execution_count": 9,
   "metadata": {},
   "outputs": [
    {
     "name": "stdout",
     "output_type": "stream",
     "text": [
      "u-s-r-o-"
     ]
    }
   ],
   "source": [
    "for karakter in 'usro':\n",
    "    print(karakter,end=\"-\")"
   ]
  },
  {
   "cell_type": "code",
   "execution_count": 10,
   "metadata": {},
   "outputs": [
    {
     "name": "stdout",
     "output_type": "stream",
     "text": [
      "1\n",
      "2\n",
      "3\n",
      "4\n"
     ]
    }
   ],
   "source": [
    "for nomor in [1,2,3,4]:\n",
    "    print(nomor)"
   ]
  },
  {
   "cell_type": "code",
   "execution_count": 11,
   "metadata": {},
   "outputs": [
    {
     "name": "stdout",
     "output_type": "stream",
     "text": [
      "anak ayam turun 0\n",
      "anak ayam turun 1\n",
      "anak ayam turun 2\n",
      "anak ayam turun 3\n"
     ]
    }
   ],
   "source": [
    "anak_ayam = 0\n",
    "while anak_ayam < 4:\n",
    "    print('anak ayam turun',anak_ayam)\n",
    "    anak_ayam+=1"
   ]
  },
  {
   "cell_type": "code",
   "execution_count": 12,
   "metadata": {},
   "outputs": [
    {
     "name": "stdout",
     "output_type": "stream",
     "text": [
      "Diet! berat badan masih 90\n",
      "Diet! berat badan masih 85\n",
      "Diet! berat badan masih 80\n",
      "Diet! berat badan masih 75\n",
      "Diet! berat badan masih 70\n",
      "capek, udahan ahhh\n"
     ]
    }
   ],
   "source": [
    "berat_badan= 90\n",
    "while berat_badan > 65:\n",
    "    print('Diet! berat badan masih',berat_badan)\n",
    "    if(berat_badan == 70):\n",
    "        print('capek, udahan ahhh')\n",
    "        break\n",
    "    berat_badan -= 5"
   ]
  },
  {
   "cell_type": "code",
   "execution_count": 13,
   "metadata": {},
   "outputs": [
    {
     "name": "stdout",
     "output_type": "stream",
     "text": [
      "Massa badan sudah 55\n",
      "Massa badan sudah 65\n",
      "Massa badan sudah 75\n"
     ]
    }
   ],
   "source": [
    "massa_badan= 50\n",
    "while massa_badan < 75:\n",
    "    massa_badan += 5\n",
    "    if(massa_badan % 2 == 0):\n",
    "        continue\n",
    "    print('Massa badan sudah',massa_badan)"
   ]
  },
  {
   "cell_type": "code",
   "execution_count": 14,
   "metadata": {},
   "outputs": [
    {
     "name": "stdout",
     "output_type": "stream",
     "text": [
      "An exception occurred\n",
      "5\n"
     ]
    }
   ],
   "source": [
    "try:\n",
    "    print(x)\n",
    "except:\n",
    "    print(\"An exception occurred\")\n",
    "print(5)"
   ]
  },
  {
   "cell_type": "code",
   "execution_count": 15,
   "metadata": {},
   "outputs": [
    {
     "ename": "NameError",
     "evalue": "name 'x' is not defined",
     "output_type": "error",
     "traceback": [
      "\u001b[1;31m---------------------------------------------------------------------------\u001b[0m",
      "\u001b[1;31mNameError\u001b[0m                                 Traceback (most recent call last)",
      "\u001b[1;32m<ipython-input-15-0760f87d8839>\u001b[0m in \u001b[0;36m<module>\u001b[1;34m\u001b[0m\n\u001b[1;32m----> 1\u001b[1;33m \u001b[0mprint\u001b[0m\u001b[1;33m(\u001b[0m\u001b[0mx\u001b[0m\u001b[1;33m)\u001b[0m\u001b[1;33m\u001b[0m\u001b[1;33m\u001b[0m\u001b[0m\n\u001b[0m\u001b[0;32m      2\u001b[0m \u001b[0mprint\u001b[0m\u001b[1;33m(\u001b[0m\u001b[1;36m5\u001b[0m\u001b[1;33m)\u001b[0m\u001b[1;33m\u001b[0m\u001b[1;33m\u001b[0m\u001b[0m\n",
      "\u001b[1;31mNameError\u001b[0m: name 'x' is not defined"
     ]
    }
   ],
   "source": [
    "print(x)\n",
    "print(5)"
   ]
  },
  {
   "cell_type": "code",
   "execution_count": null,
   "metadata": {},
   "outputs": [],
   "source": []
  }
 ],
 "metadata": {
  "kernelspec": {
   "display_name": "Python 3",
   "language": "python",
   "name": "python3"
  },
  "language_info": {
   "codemirror_mode": {
    "name": "ipython",
    "version": 3
   },
   "file_extension": ".py",
   "mimetype": "text/x-python",
   "name": "python",
   "nbconvert_exporter": "python",
   "pygments_lexer": "ipython3",
   "version": "3.8.3"
  }
 },
 "nbformat": 4,
 "nbformat_minor": 4
}
