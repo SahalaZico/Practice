{
 "cells": [
  {
   "cell_type": "code",
   "execution_count": 1,
   "metadata": {},
   "outputs": [
    {
     "name": "stdout",
     "output_type": "stream",
     "text": [
      "Nilai string1 adalah butet\n",
      "Nilai string2 adalah omak butet\n",
      "Nilai string3 adalah Bu'tet mari sini nakku\n",
      "Nilai string4 adalah \"ok mak!\", katanya\n"
     ]
    }
   ],
   "source": [
    "string1 = 'butet'\n",
    "print('Nilai string1 adalah',string1)\n",
    "\n",
    "string2 = \"omak butet\"\n",
    "print('Nilai string2 adalah',string2)\n",
    "\n",
    "string3 = \"Bu'tet mari sini nakku\"\n",
    "print('Nilai string3 adalah',string3)\n",
    "\n",
    "string4 = '\"ok mak!\", katanya'\n",
    "print('Nilai string4 adalah',string4)"
   ]
  },
  {
   "cell_type": "code",
   "execution_count": 2,
   "metadata": {},
   "outputs": [
    {
     "name": "stdout",
     "output_type": "stream",
     "text": [
      "Nilai string5 adalah \"hari apa ini butet?\", kata mak butet\n",
      "Nilai string6 adalah \"hari jum'at mak\", kata butet\n",
      "Nilai string7 adalah \t eh eh... kok terdorong???\n",
      "Nilai string8 adalah Turun kamu! \n",
      "Siap pak, laksanakan!\n"
     ]
    }
   ],
   "source": [
    "string5 = \"\\\"hari apa ini butet?\\\", kata mak butet\"\n",
    "print('Nilai string5 adalah',string5)\n",
    "\n",
    "string6 = '\"hari jum\\'at mak\", kata butet'\n",
    "print('Nilai string6 adalah',string6)\n",
    "\n",
    "string7 = \"\\t eh eh... kok terdorong???\"\n",
    "print('Nilai string7 adalah',string7)\n",
    "\n",
    "string8 = \"Turun kamu! \\nSiap pak, laksanakan!\"\n",
    "print('Nilai string8 adalah',string8)"
   ]
  },
  {
   "cell_type": "code",
   "execution_count": 3,
   "metadata": {},
   "outputs": [
    {
     "name": "stdout",
     "output_type": "stream",
     "text": [
      "Kapitalkan string9 -> Mencoba untuk memahamimu butet\n",
      "Kecilkan semua karakter di string9 -> mencoba untuk memahamimu butet\n",
      "Besarkan semua karakter di string9 -> MENCOBA UNTUK MEMAHAMIMU BUTET\n",
      "Besarkan yang kecil, kecilkan yang besar di string9 -> MENCOBA UNTUK MEMAHAMIMU bUTET\n",
      "Apakah semua karakter di string9 kecil? -> False\n",
      "Apakah semua karakter di string9 besar? -> False\n",
      "Ganti huruf u dengan oe -> mencoba oentoek memahamimoe Boetet\n",
      "Pisahkan setiap kata di string9 -> ['mencoba', 'untuk', 'memahamimu', 'Butet']\n"
     ]
    }
   ],
   "source": [
    "string9 = \"mencoba untuk memahamimu Butet\"\n",
    "\n",
    "print('Kapitalkan string9 ->',string9.capitalize())\n",
    "print('Kecilkan semua karakter di string9 ->',string9.lower())\n",
    "print('Besarkan semua karakter di string9 ->',string9.upper())\n",
    "print('Besarkan yang kecil, kecilkan yang besar di string9 ->',string9.swapcase())\n",
    "print('Apakah semua karakter di string9 kecil? ->',string9.islower())\n",
    "print('Apakah semua karakter di string9 besar? ->',string9.isupper())\n",
    "print('Ganti huruf u dengan oe ->',string9.replace('u','oe'))\n",
    "print('Pisahkan setiap kata di string9 ->',string9.split())"
   ]
  },
  {
   "cell_type": "code",
   "execution_count": 4,
   "metadata": {},
   "outputs": [
    {
     "name": "stdout",
     "output_type": "stream",
     "text": [
      "karakter pertama string10 adalah a\n",
      "karakter pertama sampai ke empat string10 adalah ambo\n",
      "karakter kedua sampai ke ketiga string10 adalah mb\n",
      "karakter terakhir string10 adalah s\n",
      "tampilan tanpa 3 karakter terakhir string10 amboi-uny\n",
      "karakter ke keempat dari belakang  sampai kedua dari belakang string10 adalah yuk\n"
     ]
    }
   ],
   "source": [
    "string10 = 'amboi-unyuks'\n",
    "\n",
    "print('karakter pertama string10 adalah',string10[0])\n",
    "print('karakter pertama sampai ke empat string10 adalah',string10[:4])\n",
    "print('karakter kedua sampai ke ketiga string10 adalah',string10[1:3])\n",
    "print('karakter terakhir string10 adalah',string10[-1])\n",
    "print('tampilan tanpa 3 karakter terakhir string10',string10[:-3])\n",
    "print('karakter ke keempat dari belakang  sampai kedua dari belakang string10 adalah',string10[-4:-1])"
   ]
  },
  {
   "cell_type": "code",
   "execution_count": 5,
   "metadata": {},
   "outputs": [
    {
     "name": "stdout",
     "output_type": "stream",
     "text": [
      "Gabungkan string11 dan string 12 -> lapet!panas!!\n",
      "Gandakan string11 5 kali -> lapet!lapet!lapet!lapet!lapet!\n",
      "Apakah string11 sama dengan string13? False\n",
      "Apakah string11 sama dengan string13? True\n",
      "Apakah kata \"ape\" ada pada string 11? True\n"
     ]
    }
   ],
   "source": [
    "string11 = 'lapet!'\n",
    "string12 = 'panas!!'\n",
    "string13 = 'Lapet!'\n",
    "\n",
    "print('Gabungkan string11 dan string 12 ->', string11+string12)\n",
    "print('Gandakan string11 5 kali ->', string11*5)\n",
    "print('Apakah string11 sama dengan string13?', string11==string13)\n",
    "print('Apakah string11 sama dengan string13?', string11>string13)\n",
    "print('Apakah kata \"ape\" ada pada string 11?', 'ape' in string11)"
   ]
  },
  {
   "cell_type": "code",
   "execution_count": null,
   "metadata": {},
   "outputs": [],
   "source": []
  }
 ],
 "metadata": {
  "kernelspec": {
   "display_name": "Python 3",
   "language": "python",
   "name": "python3"
  },
  "language_info": {
   "codemirror_mode": {
    "name": "ipython",
    "version": 3
   },
   "file_extension": ".py",
   "mimetype": "text/x-python",
   "name": "python",
   "nbconvert_exporter": "python",
   "pygments_lexer": "ipython3",
   "version": "3.8.3"
  }
 },
 "nbformat": 4,
 "nbformat_minor": 4
}
