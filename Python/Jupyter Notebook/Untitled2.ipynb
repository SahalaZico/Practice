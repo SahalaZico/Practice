{
 "cells": [
  {
   "cell_type": "code",
   "execution_count": 10,
   "metadata": {},
   "outputs": [
    {
     "data": {
      "text/plain": [
       "[0, 0, 0, 0, 0, 0]"
      ]
     },
     "execution_count": 10,
     "metadata": {},
     "output_type": "execute_result"
    }
   ],
   "source": [
    "#1 itu simbol warna putih\n",
    "group1 = [1,1,1,1,1]\n",
    "\n",
    "#0 itu simbol warna merah\n",
    "objek = 0\n",
    "\n",
    "#menambahkan objek kedalam group1\n",
    "group1.append(objek)\n",
    "\n",
    "#menampilkan isi group1\n",
    "group1\n",
    "\n",
    "#mengecek apakah objek bernilai nol\n",
    "#jika iya maka semua nilai pada group1 berubah menjadi 0\n",
    "if objek == 0:\n",
    "    for i in range(0,len(group1)):\n",
    "        group1[i]=objek\n",
    "\n",
    "#menampilkan group1\n",
    "group1"
   ]
  },
  {
   "cell_type": "code",
   "execution_count": 7,
   "metadata": {},
   "outputs": [],
   "source": []
  },
  {
   "cell_type": "code",
   "execution_count": 9,
   "metadata": {},
   "outputs": [
    {
     "data": {
      "text/plain": [
       "[0, 0, 0, 0, 0, 0]"
      ]
     },
     "execution_count": 9,
     "metadata": {},
     "output_type": "execute_result"
    }
   ],
   "source": []
  },
  {
   "cell_type": "code",
   "execution_count": null,
   "metadata": {},
   "outputs": [],
   "source": []
  }
 ],
 "metadata": {
  "kernelspec": {
   "display_name": "Python 3",
   "language": "python",
   "name": "python3"
  },
  "language_info": {
   "codemirror_mode": {
    "name": "ipython",
    "version": 3
   },
   "file_extension": ".py",
   "mimetype": "text/x-python",
   "name": "python",
   "nbconvert_exporter": "python",
   "pygments_lexer": "ipython3",
   "version": "3.7.0"
  }
 },
 "nbformat": 4,
 "nbformat_minor": 2
}
