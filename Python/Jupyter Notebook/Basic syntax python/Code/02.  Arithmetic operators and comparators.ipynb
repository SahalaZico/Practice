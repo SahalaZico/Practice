{
 "cells": [
  {
   "cell_type": "code",
   "execution_count": 1,
   "metadata": {},
   "outputs": [
    {
     "name": "stdout",
     "output_type": "stream",
     "text": [
      "hasil w + x = 7\n",
      "hasil x - y = 3.5\n",
      "hasil x * y = 2.0\n",
      "hasil z * y = -1.5\n",
      "hasil z / z = 1.0\n",
      "hasil x / y = 8.0\n",
      "hasil x mod w = 1\n",
      "hasil x pangkat w = 64\n",
      "hasil x pangkat y = 2.0\n",
      "hasil x pangkat z = 0.015625\n",
      "hasil x // w = 1\n",
      "hasil x // y = 8.0\n"
     ]
    }
   ],
   "source": [
    "v=3\n",
    "w=3\n",
    "x=4\n",
    "y=.5\n",
    "z=-3\n",
    "print('hasil w + x =',w + x)  \n",
    "print('hasil x - y =',x - y)  \n",
    "print('hasil x * y =',x * y)\n",
    "print('hasil z * y =',z * y)\n",
    "print('hasil z / z =',z / z) \n",
    "print('hasil x / y =',x / y)  \n",
    "print('hasil x mod w =',x % w)  \n",
    "print('hasil x pangkat w =',x ** w)\n",
    "print('hasil x pangkat y =',x ** y) \n",
    "print('hasil x pangkat z =',x ** z) \n",
    "print('hasil x // w =',x // w)\n",
    "print('hasil x // y =',x // y)"
   ]
  },
  {
   "cell_type": "code",
   "execution_count": 2,
   "metadata": {},
   "outputs": [
    {
     "name": "stdout",
     "output_type": "stream",
     "text": [
      "apakah y lebih besar dari z?  True\n",
      "apakah v lebih besar dari w?  False\n",
      "apakah v lebih kecil dari w?  False\n",
      "apakah v lebih besar sama dengan w?  True\n",
      "apakah v lebih kecil sama dengan w?  True\n",
      "apakah v sama dengan w? True\n",
      "apakah y tidak sama dengan x?  True\n"
     ]
    }
   ],
   "source": [
    "print('apakah y lebih besar dari z? ', y>z)\n",
    "print('apakah v lebih besar dari w? ', v>w)\n",
    "print('apakah v lebih kecil dari w? ', v<w)\n",
    "print('apakah v lebih besar sama dengan w? ', v>=w)\n",
    "print('apakah v lebih kecil sama dengan w? ', v<=w)\n",
    "print('apakah v sama dengan w?', v==w)\n",
    "print('apakah y tidak sama dengan x? ', y!=x)"
   ]
  },
  {
   "cell_type": "code",
   "execution_count": null,
   "metadata": {},
   "outputs": [],
   "source": []
  }
 ],
 "metadata": {
  "kernelspec": {
   "display_name": "Python 3",
   "language": "python",
   "name": "python3"
  },
  "language_info": {
   "codemirror_mode": {
    "name": "ipython",
    "version": 3
   },
   "file_extension": ".py",
   "mimetype": "text/x-python",
   "name": "python",
   "nbconvert_exporter": "python",
   "pygments_lexer": "ipython3",
   "version": "3.8.3"
  }
 },
 "nbformat": 4,
 "nbformat_minor": 4
}
