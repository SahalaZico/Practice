{
 "cells": [
  {
   "cell_type": "code",
   "execution_count": 1,
   "metadata": {},
   "outputs": [
    {
     "name": "stdout",
     "output_type": "stream",
     "text": [
      "['False', 'None', 'True', 'and', 'as', 'assert', 'async', 'await', 'break', 'class', 'continue', 'def', 'del', 'elif', 'else', 'except', 'finally', 'for', 'from', 'global', 'if', 'import', 'in', 'is', 'lambda', 'nonlocal', 'not', 'or', 'pass', 'raise', 'return', 'try', 'while', 'with', 'yield']\n"
     ]
    }
   ],
   "source": [
    "import keyword\n",
    "print(keyword.kwlist)"
   ]
  },
  {
   "cell_type": "code",
   "execution_count": 2,
   "metadata": {},
   "outputs": [
    {
     "name": "stdout",
     "output_type": "stream",
     "text": [
      "var1 bernilai 1 bertipe <class 'int'>\n",
      "var2 bernilai 2.5 bertipe <class 'float'>\n",
      "var3 bernilai Ucok bertipe <class 'str'>\n",
      "var4 bernilai True bertipe <class 'bool'>\n",
      "var5 bernilai -5 bertipe <class 'int'>\n",
      "var6 bernilai 1111111 bertipe <class 'int'>\n",
      "var7 bernilai 5000.0 bertipe <class 'float'>\n",
      "var8 bernilai 0.005 bertipe <class 'float'>\n",
      "var9 bernilai 0.3 bertipe <class 'float'>\n"
     ]
    }
   ],
   "source": [
    "var1 = 1\n",
    "print('var1 bernilai', var1, 'bertipe', type(var1))\n",
    "\n",
    "var2 = 2.5\n",
    "print('var2 bernilai', var2, 'bertipe', type(var2))\n",
    "\n",
    "var3 = 'Ucok'\n",
    "print('var3 bernilai', var3, 'bertipe', type(var3))\n",
    "\n",
    "var4 = True\n",
    "print('var4 bernilai', var4, 'bertipe', type(var4))\n",
    "\n",
    "var5 = -5\n",
    "print('var5 bernilai', var5, 'bertipe', type(var5))\n",
    "\n",
    "var6 = 1_111_111\n",
    "print('var6 bernilai', var6, 'bertipe', type(var6))\n",
    "\n",
    "var7 = 5e3\n",
    "print('var7 bernilai', var7, 'bertipe', type(var7))\n",
    "\n",
    "var8 = 5e-3\n",
    "print('var8 bernilai', var8, 'bertipe', type(var8))\n",
    "\n",
    "var9 = .3\n",
    "print('var9 bernilai', var9, 'bertipe', type(var9))"
   ]
  },
  {
   "cell_type": "code",
   "execution_count": 3,
   "metadata": {},
   "outputs": [
    {
     "name": "stdout",
     "output_type": "stream",
     "text": [
      "nilai var_hex ke desimal adalah 26\n",
      "nilai var_oktal ke desimal adalah 15\n",
      "nilai var_biner ke desimal adalah 3\n"
     ]
    }
   ],
   "source": [
    "var_hex = 0x1A\n",
    "print('nilai var_hex ke desimal adalah',var_hex )\n",
    "\n",
    "var_oktal = 0o17\n",
    "print('nilai var_oktal ke desimal adalah',var_oktal )\n",
    "\n",
    "var_biner = 0b11\n",
    "print('nilai var_biner ke desimal adalah',var_biner )"
   ]
  }
 ],
 "metadata": {
  "kernelspec": {
   "display_name": "Python 3",
   "language": "python",
   "name": "python3"
  },
  "language_info": {
   "codemirror_mode": {
    "name": "ipython",
    "version": 3
   },
   "file_extension": ".py",
   "mimetype": "text/x-python",
   "name": "python",
   "nbconvert_exporter": "python",
   "pygments_lexer": "ipython3",
   "version": "3.8.3"
  }
 },
 "nbformat": 4,
 "nbformat_minor": 4
}
