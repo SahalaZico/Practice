{
 "cells": [
  {
   "cell_type": "code",
   "execution_count": 5,
   "metadata": {},
   "outputs": [],
   "source": [
    "import requests\n",
    "from bs4 import BeautifulSoup\n",
    "def web(page,WebUrl):\n",
    "    if(page>0):\n",
    "        url = WebUrl\n",
    "        code = requests.get(url)\n",
    "        plain = code.text\n",
    "        s = BeautifulSoup(plain, \"html.parser\")\n",
    "        for link in s.findAll('a', {'class':'s-access-detail-page'}):\n",
    "            tet = link.get('title')\n",
    "            print(tet)\n",
    "            tet_2 = link.get('href')\n",
    "            print(tet_2)\n",
    "web(1,'https://www.amazon.in/Low-Price-With-Free-Shipping/bbp?category=/mens&pf_rd_p=ade141fd-200c-45ec-9bd8-30551c6d991d&pf_rd_r=MH6X34686KKVN10YW9TN')"
   ]
  },
  {
   "cell_type": "code",
   "execution_count": null,
   "metadata": {},
   "outputs": [],
   "source": []
  },
  {
   "cell_type": "code",
   "execution_count": 6,
   "metadata": {},
   "outputs": [
    {
     "name": "stdout",
     "output_type": "stream",
     "text": [
      "+ Backpropagation neural networks training for EEG-SSVEP classification of emotion recognition\n",
      "+ Comparison of document similarity in information retrieval system by different formulation\n",
      "+ Automated hydroponics nutrition plants systems using arduino uno microcontroller based on android\n",
      "+ Designing A Ttl Voltage Level Logic Probe By Using Common Anode Seven Segment Display And An Inverting Logic Gate On Proteus Isis 7 Professional\n",
      "+ Designing Learning Media Of Control Based On Micro Controller 8051 By Using The Mcu 8051 Ide To Support The Implementation Of Active Learning In Higher Education-Alfhe (Active …\n",
      "+ Development of building security integration system using sensors, microcontroller and GPS (Global Positioning System) based android smartphone\n",
      "+ Design of extraction method of SSVEP brain activity with IIR Chebyshev\n",
      "+ Perancangan Error Detection System And Error Correction System Menggunakan Metode Hamming Code Pada Pengiriman Data Text\n",
      "+ A teaching media of using the busy bit and SDCC in displaying character string on LCD in MCU 8051 IDE\n",
      "+ Microcontroller based automatic temperature control for oyster mushroom plants\n",
      "+ Optimalisasi Pemanfaatan Teknologi Informasi dan Komunikasi (ICT) sebagai Peluang di Era Globalisasi Ekonomi\n",
      "+ Keyword Competition Approach in Ranked Document Retrieval\n",
      "+ Application of Genetic Algorithm to Determine a Document Similarity Level in IRS\n",
      "+ Optimizing the 802.11 hotspot performances by using load and resource balancing method\n",
      "+ Classification of ECG signal with Support Vector Machine Method for Arrhythmia Detection\n",
      "+ Artifacts Reduction of EEG-SSVEP Signals for Emotion Detection with Robust Principal Component Analysis\n",
      "+ Distributed factorization computation on multiple volunteered mobile resource to break RSA key\n",
      "+ Prototipe Robot Line Follower untuk Simulasi Taksi Wisata Otomatis Kota Medan Menggunakan Algoritma Fuzzy\n",
      "+ Implementasi SMS Gateway Untuk Layanan Informasi Absensi Pegawai (Studi Kasus CV. Utama Teknik Jaya)\n",
      "+ Sistem Temu-Kembali Informasi Menggunakan Jaringan Syaraf Tiruan Dengan Beberapa Ukuran Kemiripan\n"
     ]
    }
   ],
   "source": [
    "import requests\n",
    "from bs4 import BeautifulSoup\n",
    "def web(page,WebUrl):\n",
    "    if(page>0):\n",
    "        url = WebUrl\n",
    "        code = requests.get(url)\n",
    "        plain = code.text\n",
    "        s = BeautifulSoup(plain, \"html.parser\")\n",
    "        for link in s.findAll('a', {'class':'gsc_a_at'}):\n",
    "            print(\"+ \" + link.text)\n",
    "web(1,'https://scholar.google.com/citations?hl=en&user=2lSr9cYAAAAJ')"
   ]
  },
  {
   "cell_type": "code",
   "execution_count": 38,
   "metadata": {},
   "outputs": [
    {
     "name": "stdout",
     "output_type": "stream",
     "text": [
      "Dr. Poltak Sihombing M.Kom.\n",
      "NIP 196203171991031001\n",
      "NIDN 0017036205\n",
      "IV/a\n",
      "Ilmu Komputer\n",
      "Fakultas Ilmu Komputer dan Teknologi Informasi\n",
      "poltak@usu.ac.id\n",
      "poltakhombing@yahoo.com\n"
     ]
    },
    {
     "ename": "AttributeError",
     "evalue": "'NoneType' object has no attribute 'text'",
     "output_type": "error",
     "traceback": [
      "\u001b[1;31m---------------------------------------------------------------------------\u001b[0m",
      "\u001b[1;31mAttributeError\u001b[0m                            Traceback (most recent call last)",
      "\u001b[1;32m<ipython-input-38-b066f944760a>\u001b[0m in \u001b[0;36m<module>\u001b[1;34m()\u001b[0m\n\u001b[0;32m     27\u001b[0m \u001b[1;33m\u001b[0m\u001b[0m\n\u001b[0;32m     28\u001b[0m \u001b[0mweb\u001b[0m\u001b[1;33m(\u001b[0m\u001b[1;36m1\u001b[0m\u001b[1;33m,\u001b[0m\u001b[1;34m'http://dirdosen.usu.ac.id/telusur/nidn/'\u001b[0m\u001b[1;33m+\u001b[0m\u001b[0mnidn\u001b[0m\u001b[1;33m[\u001b[0m\u001b[1;36m0\u001b[0m\u001b[1;33m]\u001b[0m\u001b[1;33m)\u001b[0m\u001b[1;33m\u001b[0m\u001b[0m\n\u001b[1;32m---> 29\u001b[1;33m \u001b[0mweb\u001b[0m\u001b[1;33m(\u001b[0m\u001b[1;36m1\u001b[0m\u001b[1;33m,\u001b[0m\u001b[1;34m'http://dirdosen.usu.ac.id/telusur/nip/1271212110690004'\u001b[0m\u001b[1;33m)\u001b[0m\u001b[1;33m\u001b[0m\u001b[0m\n\u001b[0m",
      "\u001b[1;32m<ipython-input-38-b066f944760a>\u001b[0m in \u001b[0;36mweb\u001b[1;34m(page, WebUrl)\u001b[0m\n\u001b[0;32m      7\u001b[0m         \u001b[0mplain\u001b[0m \u001b[1;33m=\u001b[0m \u001b[0mcode\u001b[0m\u001b[1;33m.\u001b[0m\u001b[0mtext\u001b[0m\u001b[1;33m\u001b[0m\u001b[0m\n\u001b[0;32m      8\u001b[0m         \u001b[0ms\u001b[0m \u001b[1;33m=\u001b[0m \u001b[0mBeautifulSoup\u001b[0m\u001b[1;33m(\u001b[0m\u001b[0mplain\u001b[0m\u001b[1;33m,\u001b[0m \u001b[1;34m\"html.parser\"\u001b[0m\u001b[1;33m)\u001b[0m\u001b[1;33m\u001b[0m\u001b[0m\n\u001b[1;32m----> 9\u001b[1;33m         \u001b[0mnamadosen\u001b[0m \u001b[1;33m=\u001b[0m \u001b[0ms\u001b[0m\u001b[1;33m.\u001b[0m\u001b[0mfind\u001b[0m\u001b[1;33m(\u001b[0m\u001b[1;34m'h3'\u001b[0m\u001b[1;33m,\u001b[0m \u001b[1;33m{\u001b[0m\u001b[1;34m'id'\u001b[0m\u001b[1;33m:\u001b[0m\u001b[1;34m'namadosen'\u001b[0m\u001b[1;33m}\u001b[0m\u001b[1;33m)\u001b[0m\u001b[1;33m.\u001b[0m\u001b[0mtext\u001b[0m\u001b[1;33m\u001b[0m\u001b[0m\n\u001b[0m\u001b[0;32m     10\u001b[0m         \u001b[0mnipdosen\u001b[0m \u001b[1;33m=\u001b[0m \u001b[0ms\u001b[0m\u001b[1;33m.\u001b[0m\u001b[0mfind\u001b[0m\u001b[1;33m(\u001b[0m\u001b[1;34m'h4'\u001b[0m\u001b[1;33m,\u001b[0m \u001b[1;33m{\u001b[0m\u001b[1;34m'id'\u001b[0m\u001b[1;33m:\u001b[0m\u001b[1;34m'nipdosen'\u001b[0m\u001b[1;33m}\u001b[0m\u001b[1;33m)\u001b[0m\u001b[1;33m.\u001b[0m\u001b[0mtext\u001b[0m\u001b[1;33m\u001b[0m\u001b[0m\n\u001b[0;32m     11\u001b[0m         \u001b[0mnidndosen\u001b[0m \u001b[1;33m=\u001b[0m \u001b[0ms\u001b[0m\u001b[1;33m.\u001b[0m\u001b[0mfind\u001b[0m\u001b[1;33m(\u001b[0m\u001b[1;34m'h4'\u001b[0m\u001b[1;33m,\u001b[0m \u001b[1;33m{\u001b[0m\u001b[1;34m'id'\u001b[0m\u001b[1;33m:\u001b[0m\u001b[1;34m'nidndosen'\u001b[0m\u001b[1;33m}\u001b[0m\u001b[1;33m)\u001b[0m\u001b[1;33m.\u001b[0m\u001b[0mtext\u001b[0m\u001b[1;33m\u001b[0m\u001b[0m\n",
      "\u001b[1;31mAttributeError\u001b[0m: 'NoneType' object has no attribute 'text'"
     ]
    }
   ],
   "source": [
    "nidn = ['0017036205']\n",
    "import requests\n",
    "from bs4 import BeautifulSoup\n",
    "def web(page,WebUrl):\n",
    "        url = WebUrl\n",
    "        code = requests.get(url)\n",
    "        plain = code.text\n",
    "        s = BeautifulSoup(plain, \"html.parser\")\n",
    "        namadosen = s.find('h3', {'id':'namadosen'}).text\n",
    "        nipdosen = s.find('h4', {'id':'nipdosen'}).text\n",
    "        nidndosen = s.find('h4', {'id':'nidndosen'}).text\n",
    "        golongan = s.find('h4', {'id':'panggol'}).text\n",
    "        jabatan = s.find('h4', {'id':'fungsional'}).text\n",
    "        prodi = s.find('h4', {'id':'prodi'}).text\n",
    "        fakultas = s.find('h4', {'id':'fakultas'}).text\n",
    "        emailusu = s.find('h4', {'id':'emailusu'}).text\n",
    "        emaillain = s.find('h4', {'id':'emaillain'}).text\n",
    "        print(namadosen)\n",
    "        print(nipdosen)\n",
    "        print(nidndosen)\n",
    "        print(golongan)\n",
    "        print(prodi)\n",
    "        print(fakultas)\n",
    "        print(emailusu)\n",
    "        print(emaillain)\n",
    "\n",
    "\n",
    "web(1,'http://dirdosen.usu.ac.id/telusur/nidn/'+nidn[0])\n",
    "web(1,'http://dirdosen.usu.ac.id/telusur/nip/1271212110690004')"
   ]
  },
  {
   "cell_type": "code",
   "execution_count": 67,
   "metadata": {},
   "outputs": [
    {
     "ename": "ModuleNotFoundError",
     "evalue": "No module named 'urllib2'",
     "output_type": "error",
     "traceback": [
      "\u001b[1;31m---------------------------------------------------------------------------\u001b[0m",
      "\u001b[1;31mModuleNotFoundError\u001b[0m                       Traceback (most recent call last)",
      "\u001b[1;32m<ipython-input-67-f2e95426f5f5>\u001b[0m in \u001b[0;36m<module>\u001b[1;34m()\u001b[0m\n\u001b[0;32m      1\u001b[0m \u001b[1;32mimport\u001b[0m \u001b[0mwebbrowser\u001b[0m\u001b[1;33m\u001b[0m\u001b[0m\n\u001b[0;32m      2\u001b[0m \u001b[1;31m#webbrowser.open('http://dirdosen.usu.ac.id/telusur/nip/196203171991031001')\u001b[0m\u001b[1;33m\u001b[0m\u001b[1;33m\u001b[0m\u001b[0m\n\u001b[1;32m----> 3\u001b[1;33m \u001b[1;32mimport\u001b[0m \u001b[0murllib2\u001b[0m\u001b[1;33m\u001b[0m\u001b[0m\n\u001b[0m\u001b[0;32m      4\u001b[0m \u001b[0mresponse\u001b[0m \u001b[1;33m=\u001b[0m \u001b[0murllib2\u001b[0m\u001b[1;33m.\u001b[0m\u001b[0murlopen\u001b[0m\u001b[1;33m(\u001b[0m\u001b[1;34m\"http://dirdosen.usu.ac.id/telusur/nip/196203171991031001\"\u001b[0m\u001b[1;33m)\u001b[0m\u001b[1;33m\u001b[0m\u001b[0m\n\u001b[0;32m      5\u001b[0m \u001b[0mpage_source\u001b[0m \u001b[1;33m=\u001b[0m \u001b[0mresponse\u001b[0m\u001b[1;33m.\u001b[0m\u001b[0mread\u001b[0m\u001b[1;33m(\u001b[0m\u001b[1;33m)\u001b[0m\u001b[1;33m\u001b[0m\u001b[0m\n",
      "\u001b[1;31mModuleNotFoundError\u001b[0m: No module named 'urllib2'"
     ]
    }
   ],
   "source": [
    "import webbrowser\n",
    "#webbrowser.open('http://dirdosen.usu.ac.id/telusur/nip/196203171991031001')\n",
    "import urllib\n",
    "response = urllib.urlopen(\"http://dirdosen.usu.ac.id/telusur/nip/196203171991031001\")\n",
    "page_source = response.read()\n",
    "\n",
    "# from bs4 import BeautifulSoup\n",
    "# url = 'http://dirdosen.usu.ac.id/telusur/nip/196203171991031001'\n",
    "# headers = {\n",
    "#     'User-Agent': 'My User Agent 1.0', \n",
    "#     'From': 'youremail@domain.com'\n",
    "# }\n",
    "# code = requests.get(url, headers=headers)\n",
    "# plain = code._content\n",
    "# s = BeautifulSoup(plain, \"html.parser\")\n",
    "# namadosen = s.findAll('h3')\n",
    "print(page_source)"
   ]
  },
  {
   "cell_type": "code",
   "execution_count": 66,
   "metadata": {},
   "outputs": [
    {
     "name": "stdout",
     "output_type": "stream",
     "text": [
      "{'_content': b'', '_content_consumed': True, '_next': None, 'status_code': 200, 'headers': {'Date': 'Thu, 22 Aug 2019 07:09:26 GMT', 'Server': 'Apache/2.4.7', 'X-Powered-By': 'PHP/5.5.9-1ubuntu4.22', 'Expires': 'Thu, 19 Nov 1981 08:52:00 GMT', 'Cache-Control': 'no-store, no-cache, must-revalidate, post-check=0, pre-check=0', 'Pragma': 'no-cache', 'Refresh': '0;url=http://dirdosen.usu.ac.id', 'Content-Type': 'text/html; charset=UTF-8', 'Content-Length': '0', 'Connection': 'Keep-Alive', 'Set-Cookie': 'ci_session=1b55839bc4a40b50b32f923080a275cde8b629ad; expires=Thu, 22-Aug-2019 09:09:26 GMT; Max-Age=7200; path=/; HttpOnly'}, 'raw': <urllib3.response.HTTPResponse object at 0x000001DDC7ECF518>, 'url': 'http://dirdosen.usu.ac.id/telusur/nip/196203171991031001', 'encoding': 'UTF-8', 'history': [], 'reason': 'OK', 'cookies': <RequestsCookieJar[Cookie(version=0, name='ci_session', value='1b55839bc4a40b50b32f923080a275cde8b629ad', port=None, port_specified=False, domain='dirdosen.usu.ac.id', domain_specified=False, domain_initial_dot=False, path='/', path_specified=True, secure=False, expires=1566464965, discard=False, comment=None, comment_url=None, rest={'HttpOnly': None}, rfc2109=False)]>, 'elapsed': datetime.timedelta(microseconds=129309), 'request': <PreparedRequest [GET]>, 'connection': <requests.adapters.HTTPAdapter object at 0x000001DDC7F2CDA0>}\n"
     ]
    }
   ],
   "source": [
    "print(code.__dict__)"
   ]
  },
  {
   "cell_type": "code",
   "execution_count": null,
   "metadata": {},
   "outputs": [],
   "source": []
  }
 ],
 "metadata": {
  "kernelspec": {
   "display_name": "Python 3",
   "language": "python",
   "name": "python3"
  },
  "language_info": {
   "codemirror_mode": {
    "name": "ipython",
    "version": 3
   },
   "file_extension": ".py",
   "mimetype": "text/x-python",
   "name": "python",
   "nbconvert_exporter": "python",
   "pygments_lexer": "ipython3",
   "version": "3.7.0"
  }
 },
 "nbformat": 4,
 "nbformat_minor": 2
}
